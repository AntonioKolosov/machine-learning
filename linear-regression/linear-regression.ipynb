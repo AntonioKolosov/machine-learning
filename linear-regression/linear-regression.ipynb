{
 "cells": [
  {
   "metadata": {},
   "cell_type": "markdown",
   "source": "# Linear Regression for a housing dataset",
   "id": "42d8b1ace5d7aa3f"
  },
  {
   "metadata": {},
   "cell_type": "code",
   "outputs": [],
   "execution_count": 1,
   "source": [
    "import numpy as np\n",
    "from matplotlib import pyplot as plt\n",
    "\n",
    "import random\n",
    "import utils"
   ],
   "id": "d4c08ece-695e-40d5-bfd0-4924ddd56264"
  },
  {
   "metadata": {
    "ExecuteTime": {
     "end_time": "2025-04-22T17:23:27.416435Z",
     "start_time": "2025-04-22T17:23:27.402920Z"
    }
   },
   "cell_type": "code",
   "source": [
    "features = np.array([1, 2, 3, 5, 6, 7])\n",
    "labels = np.array([155, 197, 244, 356,407,448])\n",
    "\n",
    "print(features)\n",
    "print(labels)"
   ],
   "id": "ff45efa451b59b95",
   "outputs": [
    {
     "name": "stdout",
     "output_type": "stream",
     "text": [
      "[1 2 3 5 6 7]\n",
      "[155 197 244 356 407 448]\n"
     ]
    }
   ],
   "execution_count": 2
  },
  {
   "metadata": {
    "ExecuteTime": {
     "end_time": "2025-04-22T17:23:33.859727Z",
     "start_time": "2025-04-22T17:23:33.590507Z"
    }
   },
   "cell_type": "code",
   "source": "utils.plot_points(features, labels)",
   "id": "e59b556d204a5e4f",
   "outputs": [
    {
     "data": {
      "text/plain": [
       "<Figure size 640x480 with 1 Axes>"
      ],
      "image/png": "[encoded data removed]"
     },
     "metadata": {},
     "output_type": "display_data"
    }
   ],
   "execution_count": 3
  },
  {
   "metadata": {},
   "cell_type": "markdown",
   "source": "## Square trick",
   "id": "dab63a5e0330efb2"
  },
  {
   "metadata": {},
   "cell_type": "code",
   "outputs": [],
   "execution_count": null,
   "source": [
    "def square_trick(base_price\n",
    "                 , price_per_room\n",
    "                 , num_rooms\n",
    "                 , price\n",
    "                 , learning_rate):\n",
    "    predicted_price = base_price + price_per_room * num_rooms\n",
    "    price_per_room += learning_rate * num_rooms* (price - predicted_price)\n",
    "    base_price += learning_rate * (price - predicted_price)\n",
    "    return price_per_room, base_price\n"
   ],
   "id": "f090926776b7e8c6"
  },
  {
   "metadata": {},
   "cell_type": "markdown",
   "source": "## Absolute trick",
   "id": "fd092d1eb75cf0df"
  },
  {
   "metadata": {},
   "cell_type": "code",
   "outputs": [],
   "execution_count": null,
   "source": [
    "def absolute_trick(base_price\n",
    "                   , price_per_room\n",
    "                   , num_rooms\n",
    "                   , price\n",
    "                   , learning_rate):\n",
    "    predicted_price = base_price + num_rooms * price_per_room\n",
    "    if price > predicted_price:\n",
    "        price_per_room += learning_rate * num_rooms\n",
    "        base_price += learning_rate\n",
    "    else:\n",
    "        price_per_room -= learning_rate * num_rooms\n",
    "        base_price -= learning_rate\n",
    "    return price_per_room, base_price"
   ],
   "id": "8327e40db933c0b8"
  },
  {
   "metadata": {},
   "cell_type": "code",
   "outputs": [],
   "execution_count": null,
   "source": [
    "# We set the random seed in order to always get the same results.\n",
    "random.seed(0)\n",
    "\n",
    "def linear_regression(features\n",
    "                      , labels\n",
    "                      , learning_rate=0.01\n",
    "                      , epochs=1000):\n",
    "    price_per_room = random.random()\n",
    "    base_price = random.random()\n",
    "    for epoch in range(epochs):\n",
    "        # Uncomment any of the following lines to plot different epochs\n",
    "        #if epoch == 1:\n",
    "        #if epoch <= 10:\n",
    "        #if epoch <= 50:\n",
    "        #if epoch > 50:\n",
    "        if True:\n",
    "            utils.draw_line(price_per_room, base_price, starting=0, ending=8)\n",
    "        i = random.randint(0, len(features) - 1)\n",
    "        num_rooms = features[i]\n",
    "        price = labels [i]\n",
    "         price_per_room, base_price = square_trick(base_price,\n",
    "                                                  price_per_room,\n",
    "                                                  num_rooms,\n",
    "                                                  price,\n",
    "                                                  learning_rate=learning_rate)\n",
    "    utils.draw_line(price_per_room, base_price, 'black', starting=0, ending=8)\n",
    "    utils.plot_points(features, labels)\n",
    "    print('Price per room:', price_per_room)\n",
    "    print('Base price:', base_price)\n",
    "    return price_per_room, base_price\n",
    "\n",
    "# This line is for the x-axis to appear in the figure\n",
    "plt.ylim(0,500)\n",
    "\n",
    "linear_regression(features, labels, learning_rate = 0.01, epochs = 1000)"
   ],
   "id": "4d4697ec41dffae4"
  },
  {
   "metadata": {},
   "cell_type": "code",
   "outputs": [],
   "execution_count": null,
   "source": "",
   "id": "d08bed8964819e79"
  }
 ],
 "metadata": {
  "kernelspec": {
   "display_name": "Python 3 (ipykernel)",
   "language": "python",
   "name": "python3"
  },
  "language_info": {
   "codemirror_mode": {
    "name": "ipython",
    "version": 3
   },
   "file_extension": ".py",
   "mimetype": "text/x-python",
   "name": "python",
   "nbconvert_exporter": "python",
   "pygments_lexer": "ipython3",
   "version": "3.13.3"
  }
 },
 "nbformat": 4,
 "nbformat_minor": 5
}
